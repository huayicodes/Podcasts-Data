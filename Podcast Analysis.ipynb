{
 "cells": [
  {
   "cell_type": "markdown",
   "metadata": {},
   "source": [
    "# Podcast Analysis\n",
    "\n",
    "I performed an exploratory analysis of the scrapped podcast data. \n",
    "\n",
    "* I found no obvious linear relationship or strong correlation between different columns.\n",
    "* I then converted \"GenreIDs\" into features, and tried to predict the ratings with a Random Forest Regressor\n",
    "* While the regressor produced small errors, a similar error is created when target data is shuffled. This means that the model failed to capture relationships in the data, and is just performing well by chance. Perhaps more information is needed, or the data is too skewed towards higher ratings. "
   ]
  },
  {
   "cell_type": "code",
   "execution_count": 2,
   "metadata": {},
   "outputs": [],
   "source": [
    "import pandas as pd \n",
    "import numpy as np \n",
    "import seaborn as sns\n",
    "import matplotlib.pyplot as plt\n",
    "\n",
    "%matplotlib inline"
   ]
  },
  {
   "cell_type": "code",
   "execution_count": 3,
   "metadata": {},
   "outputs": [
    {
     "data": {
      "text/html": [
       "<div>\n",
       "<style scoped>\n",
       "    .dataframe tbody tr th:only-of-type {\n",
       "        vertical-align: middle;\n",
       "    }\n",
       "\n",
       "    .dataframe tbody tr th {\n",
       "        vertical-align: top;\n",
       "    }\n",
       "\n",
       "    .dataframe thead th {\n",
       "        text-align: right;\n",
       "    }\n",
       "</style>\n",
       "<table border=\"1\" class=\"dataframe\">\n",
       "  <thead>\n",
       "    <tr style=\"text-align: right;\">\n",
       "      <th></th>\n",
       "      <th>Item</th>\n",
       "      <th>ID</th>\n",
       "      <th>Artwork</th>\n",
       "      <th>Genre IDs</th>\n",
       "      <th>Episode Count</th>\n",
       "      <th>iTunes URL</th>\n",
       "      <th>Feed URL</th>\n",
       "      <th>Avg Rating</th>\n",
       "      <th>Rating Count</th>\n",
       "      <th>Description</th>\n",
       "    </tr>\n",
       "  </thead>\n",
       "  <tbody>\n",
       "    <tr>\n",
       "      <td>0</td>\n",
       "      <td>Frankie B's Reggae Session</td>\n",
       "      <td>545234281</td>\n",
       "      <td>https://is1-ssl.mzstatic.com/image/thumb/Podca...</td>\n",
       "      <td>['1525', '26', '1310']</td>\n",
       "      <td>70</td>\n",
       "      <td>https://podcasts.apple.com/us/podcast/frankie-...</td>\n",
       "      <td>https://frankiebsession.podbean.com/feed.xml</td>\n",
       "      <td>4.8</td>\n",
       "      <td>28</td>\n",
       "      <td>Frankie B's Reggae Session Podcast takes Color...</td>\n",
       "    </tr>\n",
       "    <tr>\n",
       "      <td>1</td>\n",
       "      <td>Rotoworld Football Podcast</td>\n",
       "      <td>1089780289</td>\n",
       "      <td>https://is2-ssl.mzstatic.com/image/thumb/Podca...</td>\n",
       "      <td>['1547', '26', '1545']</td>\n",
       "      <td>328</td>\n",
       "      <td>https://podcasts.apple.com/us/podcast/rotoworl...</td>\n",
       "      <td>https://rss.art19.com/rotoworld-football</td>\n",
       "      <td>4.7</td>\n",
       "      <td>690</td>\n",
       "      <td>From fantasy implications to NFL draft analysi...</td>\n",
       "    </tr>\n",
       "  </tbody>\n",
       "</table>\n",
       "</div>"
      ],
      "text/plain": [
       "                         Item          ID  \\\n",
       "0  Frankie B's Reggae Session   545234281   \n",
       "1  Rotoworld Football Podcast  1089780289   \n",
       "\n",
       "                                             Artwork               Genre IDs  \\\n",
       "0  https://is1-ssl.mzstatic.com/image/thumb/Podca...  ['1525', '26', '1310']   \n",
       "1  https://is2-ssl.mzstatic.com/image/thumb/Podca...  ['1547', '26', '1545']   \n",
       "\n",
       "   Episode Count                                         iTunes URL  \\\n",
       "0             70  https://podcasts.apple.com/us/podcast/frankie-...   \n",
       "1            328  https://podcasts.apple.com/us/podcast/rotoworl...   \n",
       "\n",
       "                                       Feed URL  Avg Rating  Rating Count  \\\n",
       "0  https://frankiebsession.podbean.com/feed.xml         4.8            28   \n",
       "1      https://rss.art19.com/rotoworld-football         4.7           690   \n",
       "\n",
       "                                         Description  \n",
       "0  Frankie B's Reggae Session Podcast takes Color...  \n",
       "1  From fantasy implications to NFL draft analysi...  "
      ]
     },
     "execution_count": 3,
     "metadata": {},
     "output_type": "execute_result"
    }
   ],
   "source": [
    "podcastdf = pd.read_csv('df_popular_podcasts.csv')\n",
    "podcastdf.head(2)"
   ]
  },
  {
   "cell_type": "code",
   "execution_count": 4,
   "metadata": {},
   "outputs": [],
   "source": [
    "# convert the 'Genre ID' column to numbers. \n",
    "# note that the ID '26' means 'podcast' and is present in all rows and is thus redundant and removed.  \n",
    "GenreIDs = [i.split('\\'')[1::2] for i in podcastdf['Genre IDs']]\n",
    "GenreIDs = [list(map(int, i)) for i in GenreIDs]\n",
    "for i in GenreIDs:\n",
    "    i.remove(26)"
   ]
  },
  {
   "cell_type": "code",
   "execution_count": 5,
   "metadata": {},
   "outputs": [
    {
     "name": "stdout",
     "output_type": "stream",
     "text": [
      "There are 110 unique GenreIDs.\n"
     ]
    }
   ],
   "source": [
    "flatten = lambda l: [item for sublist in l for item in sublist]\n",
    "GenreIDs_flat = np.asarray(flatten(GenreIDs))\n",
    "unique_GenreIDs = np.unique(GenreIDs_flat)\n",
    "print('There are ' + str(len(np.unique(GenreIDs_flat))) + ' unique GenreIDs.')"
   ]
  },
  {
   "cell_type": "code",
   "execution_count": 6,
   "metadata": {},
   "outputs": [],
   "source": [
    "# Create a DataFrame to convert GenreIDs into indicator variables. \n",
    "GenreIDs_df = pd.DataFrame(np.zeros((len(GenreIDs),len(np.unique(GenreIDs_flat)))),columns=unique_GenreIDs)\n",
    "for n,i in enumerate(GenreIDs):\n",
    "    for j in i:\n",
    "        idx = np.argwhere(unique_GenreIDs == j)\n",
    "        GenreIDs_df.iloc[n,idx]=1"
   ]
  },
  {
   "cell_type": "code",
   "execution_count": 7,
   "metadata": {},
   "outputs": [
    {
     "data": {
      "text/html": [
       "<div>\n",
       "<style scoped>\n",
       "    .dataframe tbody tr th:only-of-type {\n",
       "        vertical-align: middle;\n",
       "    }\n",
       "\n",
       "    .dataframe tbody tr th {\n",
       "        vertical-align: top;\n",
       "    }\n",
       "\n",
       "    .dataframe thead th {\n",
       "        text-align: right;\n",
       "    }\n",
       "</style>\n",
       "<table border=\"1\" class=\"dataframe\">\n",
       "  <thead>\n",
       "    <tr style=\"text-align: right;\">\n",
       "      <th></th>\n",
       "      <th>ID</th>\n",
       "      <th>Episode Count</th>\n",
       "      <th>Avg Rating</th>\n",
       "      <th>Rating Count</th>\n",
       "      <th>Description</th>\n",
       "      <th>1301</th>\n",
       "      <th>1302</th>\n",
       "      <th>1303</th>\n",
       "      <th>1304</th>\n",
       "      <th>1305</th>\n",
       "      <th>...</th>\n",
       "      <th>1556</th>\n",
       "      <th>1557</th>\n",
       "      <th>1558</th>\n",
       "      <th>1559</th>\n",
       "      <th>1560</th>\n",
       "      <th>1561</th>\n",
       "      <th>1562</th>\n",
       "      <th>1563</th>\n",
       "      <th>1564</th>\n",
       "      <th>1565</th>\n",
       "    </tr>\n",
       "  </thead>\n",
       "  <tbody>\n",
       "    <tr>\n",
       "      <td>0</td>\n",
       "      <td>545234281</td>\n",
       "      <td>70</td>\n",
       "      <td>4.8</td>\n",
       "      <td>28</td>\n",
       "      <td>Frankie B's Reggae Session Podcast takes Color...</td>\n",
       "      <td>0.0</td>\n",
       "      <td>0.0</td>\n",
       "      <td>0.0</td>\n",
       "      <td>0.0</td>\n",
       "      <td>0.0</td>\n",
       "      <td>...</td>\n",
       "      <td>0.0</td>\n",
       "      <td>0.0</td>\n",
       "      <td>0.0</td>\n",
       "      <td>0.0</td>\n",
       "      <td>0.0</td>\n",
       "      <td>0.0</td>\n",
       "      <td>0.0</td>\n",
       "      <td>0.0</td>\n",
       "      <td>0.0</td>\n",
       "      <td>0.0</td>\n",
       "    </tr>\n",
       "    <tr>\n",
       "      <td>1</td>\n",
       "      <td>1089780289</td>\n",
       "      <td>328</td>\n",
       "      <td>4.7</td>\n",
       "      <td>690</td>\n",
       "      <td>From fantasy implications to NFL draft analysi...</td>\n",
       "      <td>0.0</td>\n",
       "      <td>0.0</td>\n",
       "      <td>0.0</td>\n",
       "      <td>0.0</td>\n",
       "      <td>0.0</td>\n",
       "      <td>...</td>\n",
       "      <td>0.0</td>\n",
       "      <td>0.0</td>\n",
       "      <td>0.0</td>\n",
       "      <td>0.0</td>\n",
       "      <td>0.0</td>\n",
       "      <td>0.0</td>\n",
       "      <td>0.0</td>\n",
       "      <td>0.0</td>\n",
       "      <td>0.0</td>\n",
       "      <td>0.0</td>\n",
       "    </tr>\n",
       "  </tbody>\n",
       "</table>\n",
       "<p>2 rows × 115 columns</p>\n",
       "</div>"
      ],
      "text/plain": [
       "           ID  Episode Count  Avg Rating  Rating Count  \\\n",
       "0   545234281             70         4.8            28   \n",
       "1  1089780289            328         4.7           690   \n",
       "\n",
       "                                         Description  1301  1302  1303  1304  \\\n",
       "0  Frankie B's Reggae Session Podcast takes Color...   0.0   0.0   0.0   0.0   \n",
       "1  From fantasy implications to NFL draft analysi...   0.0   0.0   0.0   0.0   \n",
       "\n",
       "   1305  ...  1556  1557  1558  1559  1560  1561  1562  1563  1564  1565  \n",
       "0   0.0  ...   0.0   0.0   0.0   0.0   0.0   0.0   0.0   0.0   0.0   0.0  \n",
       "1   0.0  ...   0.0   0.0   0.0   0.0   0.0   0.0   0.0   0.0   0.0   0.0  \n",
       "\n",
       "[2 rows x 115 columns]"
      ]
     },
     "execution_count": 7,
     "metadata": {},
     "output_type": "execute_result"
    }
   ],
   "source": [
    "# keep the revelant columns of poddf and merge it with GenreIDs_df\n",
    "columns = ['ID','Episode Count', 'Avg Rating', 'Rating Count','Description']\n",
    "poddf = podcastdf[columns]\n",
    "poddf = poddf.merge(GenreIDs_df,left_index =True,right_index=True)\n",
    "poddf.head(2)"
   ]
  },
  {
   "cell_type": "code",
   "execution_count": 8,
   "metadata": {},
   "outputs": [
    {
     "data": {
      "text/plain": [
       "<seaborn.axisgrid.JointGrid at 0x22e544c5128>"
      ]
     },
     "execution_count": 8,
     "metadata": {},
     "output_type": "execute_result"
    },
    {
     "data": {
      "image/png": "[encoded data removed]",
      "text/plain": [
       "<Figure size 432x432 with 3 Axes>"
      ]
     },
     "metadata": {
      "needs_background": "light"
     },
     "output_type": "display_data"
    }
   ],
   "source": [
    "# explore if podcasts have more episodes would have better ratings.  \n",
    "sns.jointplot('Episode Count','Avg Rating', data=poddf)\n",
    "# comments: ratings are sckewed towards 5 stars. \n",
    "# most podcasts have less than 2000 episode counts. Thus plotting the x-axis on a log scale next. "
   ]
  },
  {
   "cell_type": "code",
   "execution_count": 9,
   "metadata": {},
   "outputs": [
    {
     "data": {
      "image/png": "[encoded data removed]",
      "text/plain": [
       "<Figure size 432x432 with 3 Axes>"
      ]
     },
     "metadata": {
      "needs_background": "light"
     },
     "output_type": "display_data"
    }
   ],
   "source": [
    "g=sns.jointplot('Episode Count','Avg Rating', data=poddf)\n",
    "g.ax_joint.set_xscale('symlog')\n",
    "# Comments: the average rating of a podcasts doesn't seem to correlate strongly with the number of episodes. \n",
    "# The podcasts in this dataset is skewed towards better ratings. "
   ]
  },
  {
   "cell_type": "code",
   "execution_count": 10,
   "metadata": {},
   "outputs": [
    {
     "data": {
      "image/png": "[encoded data removed]",
      "text/plain": [
       "<Figure size 432x432 with 3 Axes>"
      ]
     },
     "metadata": {
      "needs_background": "light"
     },
     "output_type": "display_data"
    }
   ],
   "source": [
    "# explore if podcasts have more ratings would have higher average ratings. \n",
    "\n",
    "# plotting rating count on a log scale. \n",
    "g= sns.jointplot('Rating Count','Avg Rating', data=poddf)\n",
    "g.ax_joint.set_xscale('symlog')\n",
    "# Comments: interestingly, the plot seems to have the lower triangle cut off. \n",
    "# This implies while podcasts with less ratings could have high average rating, podcasts with lots of ratings can't have a low average!"
   ]
  },
  {
   "cell_type": "code",
   "execution_count": 11,
   "metadata": {},
   "outputs": [
    {
     "name": "stderr",
     "output_type": "stream",
     "text": [
      "C:\\Users\\Huayi\\Anaconda3\\lib\\site-packages\\ipykernel_launcher.py:2: RuntimeWarning: divide by zero encountered in log\n",
      "  \n"
     ]
    },
    {
     "data": {
      "text/plain": [
       "<matplotlib.axes._subplots.AxesSubplot at 0x22e57dd9278>"
      ]
     },
     "execution_count": 11,
     "metadata": {},
     "output_type": "execute_result"
    },
    {
     "data": {
      "image/png": "[encoded data removed]",
      "text/plain": [
       "<Figure size 432x288 with 2 Axes>"
      ]
     },
     "metadata": {
      "needs_background": "light"
     },
     "output_type": "display_data"
    }
   ],
   "source": [
    "# examine correlation between 'Avg Rating' and log values of 'Episode Count'& 'Rating Count' \n",
    "poddf[['Episode Count','Rating Count']] = np.log(poddf[['Episode Count','Rating Count']])\n",
    "poddf.replace([np.inf, -np.inf], 0, inplace=True)\n",
    "sns.heatmap(poddf[['Episode Count','Rating Count','Avg Rating']].corr())\n",
    "# Comments: Rating Count is weakly correlated with Episode Count. \n",
    "# There's a weaker correlation between Rating Count and Ave Rating.  "
   ]
  },
  {
   "cell_type": "code",
   "execution_count": 12,
   "metadata": {},
   "outputs": [
    {
     "data": {
      "text/html": [
       "<div>\n",
       "<style scoped>\n",
       "    .dataframe tbody tr th:only-of-type {\n",
       "        vertical-align: middle;\n",
       "    }\n",
       "\n",
       "    .dataframe tbody tr th {\n",
       "        vertical-align: top;\n",
       "    }\n",
       "\n",
       "    .dataframe thead th {\n",
       "        text-align: right;\n",
       "    }\n",
       "</style>\n",
       "<table border=\"1\" class=\"dataframe\">\n",
       "  <thead>\n",
       "    <tr style=\"text-align: right;\">\n",
       "      <th></th>\n",
       "      <th>ID</th>\n",
       "      <th>Episode Count</th>\n",
       "      <th>Avg Rating</th>\n",
       "      <th>Rating Count</th>\n",
       "      <th>Description</th>\n",
       "      <th>1301</th>\n",
       "      <th>1302</th>\n",
       "      <th>1303</th>\n",
       "      <th>1304</th>\n",
       "      <th>1305</th>\n",
       "      <th>...</th>\n",
       "      <th>1556</th>\n",
       "      <th>1557</th>\n",
       "      <th>1558</th>\n",
       "      <th>1559</th>\n",
       "      <th>1560</th>\n",
       "      <th>1561</th>\n",
       "      <th>1562</th>\n",
       "      <th>1563</th>\n",
       "      <th>1564</th>\n",
       "      <th>1565</th>\n",
       "    </tr>\n",
       "  </thead>\n",
       "  <tbody>\n",
       "    <tr>\n",
       "      <td>0</td>\n",
       "      <td>545234281</td>\n",
       "      <td>4.248495</td>\n",
       "      <td>4.8</td>\n",
       "      <td>3.332205</td>\n",
       "      <td>Frankie B's Reggae Session Podcast takes Color...</td>\n",
       "      <td>0.0</td>\n",
       "      <td>0.0</td>\n",
       "      <td>0.0</td>\n",
       "      <td>0.0</td>\n",
       "      <td>0.0</td>\n",
       "      <td>...</td>\n",
       "      <td>0.0</td>\n",
       "      <td>0.0</td>\n",
       "      <td>0.0</td>\n",
       "      <td>0.0</td>\n",
       "      <td>0.0</td>\n",
       "      <td>0.0</td>\n",
       "      <td>0.0</td>\n",
       "      <td>0.0</td>\n",
       "      <td>0.0</td>\n",
       "      <td>0.0</td>\n",
       "    </tr>\n",
       "    <tr>\n",
       "      <td>1</td>\n",
       "      <td>1089780289</td>\n",
       "      <td>5.793014</td>\n",
       "      <td>4.7</td>\n",
       "      <td>6.536692</td>\n",
       "      <td>From fantasy implications to NFL draft analysi...</td>\n",
       "      <td>0.0</td>\n",
       "      <td>0.0</td>\n",
       "      <td>0.0</td>\n",
       "      <td>0.0</td>\n",
       "      <td>0.0</td>\n",
       "      <td>...</td>\n",
       "      <td>0.0</td>\n",
       "      <td>0.0</td>\n",
       "      <td>0.0</td>\n",
       "      <td>0.0</td>\n",
       "      <td>0.0</td>\n",
       "      <td>0.0</td>\n",
       "      <td>0.0</td>\n",
       "      <td>0.0</td>\n",
       "      <td>0.0</td>\n",
       "      <td>0.0</td>\n",
       "    </tr>\n",
       "  </tbody>\n",
       "</table>\n",
       "<p>2 rows × 115 columns</p>\n",
       "</div>"
      ],
      "text/plain": [
       "           ID  Episode Count  Avg Rating  Rating Count  \\\n",
       "0   545234281       4.248495         4.8      3.332205   \n",
       "1  1089780289       5.793014         4.7      6.536692   \n",
       "\n",
       "                                         Description  1301  1302  1303  1304  \\\n",
       "0  Frankie B's Reggae Session Podcast takes Color...   0.0   0.0   0.0   0.0   \n",
       "1  From fantasy implications to NFL draft analysi...   0.0   0.0   0.0   0.0   \n",
       "\n",
       "   1305  ...  1556  1557  1558  1559  1560  1561  1562  1563  1564  1565  \n",
       "0   0.0  ...   0.0   0.0   0.0   0.0   0.0   0.0   0.0   0.0   0.0   0.0  \n",
       "1   0.0  ...   0.0   0.0   0.0   0.0   0.0   0.0   0.0   0.0   0.0   0.0  \n",
       "\n",
       "[2 rows x 115 columns]"
      ]
     },
     "execution_count": 12,
     "metadata": {},
     "output_type": "execute_result"
    }
   ],
   "source": [
    "poddf.head(2)"
   ]
  },
  {
   "cell_type": "code",
   "execution_count": 25,
   "metadata": {},
   "outputs": [],
   "source": [
    "# As the data seems to have nonlinear relationship, I used the \"decision tree regressor\" to predict ratings. \n",
    "from sklearn.model_selection import train_test_split\n",
    "X = poddf.drop(columns=['ID','Avg Rating','Description'])\n",
    "Y = poddf['Avg Rating']\n",
    "X_train, X_test, y_train, y_test = train_test_split(X, Y, test_size=0.30, random_state=61)"
   ]
  },
  {
   "cell_type": "code",
   "execution_count": 26,
   "metadata": {},
   "outputs": [
    {
     "name": "stdout",
     "output_type": "stream",
     "text": [
      "error for regressor 1 is 0.3359860546398286\n",
      "error for regressor 2 is 0.3342249148494159\n"
     ]
    }
   ],
   "source": [
    "from sklearn.metrics import mean_squared_error\n",
    "from sklearn.ensemble import RandomForestRegressor\n",
    "import warnings\n",
    "warnings.filterwarnings(\"ignore\", category=FutureWarning)\n",
    "\n",
    "regr_1 = RandomForestRegressor(max_depth=2)\n",
    "regr_2 = RandomForestRegressor(max_depth=5)\n",
    "regr_1.fit(X_train, y_train)\n",
    "regr_2.fit(X_train, y_train)\n",
    "\n",
    "# Predict\n",
    "y_1 = regr_1.predict(X_test)\n",
    "y_2 = regr_2.predict(X_test)\n",
    "\n",
    "# calculate error\n",
    "print('error for regressor 1 is ' + str(np.sqrt(mean_squared_error(y_1, y_test))))\n",
    "print('error for regressor 2 is ' + str(np.sqrt(mean_squared_error(y_2, y_test))))"
   ]
  },
  {
   "cell_type": "code",
   "execution_count": 15,
   "metadata": {},
   "outputs": [
    {
     "name": "stdout",
     "output_type": "stream",
     "text": [
      "Features sorted by their score for regressor 1:\n",
      "[(0.3494, 'Episode Count'), (0.2909, 1562), (0.1715, 'Rating Count'), (0.1363, 1498), (0.0451, 1519), (0.0068, 1561)]\n",
      "\n",
      "Features sorted by their score for regressor 2:\n",
      "[(0.2316, 'Episode Count'), (0.1979, 'Rating Count'), (0.1083, 1562), (0.0766, 1498), (0.0333, 1495), (0.0283, 1532), (0.0261, 1528), (0.0236, 1516), (0.0235, 1531), (0.022, 1509), (0.0211, 1412), (0.0179, 1490), (0.0177, 1305), (0.0169, 1561), (0.0139, 1483), (0.0138, 1519), (0.013, 1551), (0.0129, 1520), (0.0113, 1501), (0.0105, 1484), (0.0101, 1482), (0.0094, 1489), (0.0082, 1314), (0.0075, 1309), (0.0067, 1524), (0.0063, 1548), (0.0053, 1303), (0.0045, 1488), (0.0035, 1563), (0.0033, 1526), (0.0032, 1505), (0.0026, 1533), (0.0019, 1492), (0.0016, 1494), (0.0014, 1500), (0.0011, 1306), (0.001, 1406), (0.0009, 1487), (0.0005, 1324), (0.0004, 1544), (0.0004, 1320), (0.0, 1496)]\n"
     ]
    }
   ],
   "source": [
    "print(\"Features sorted by their score for regressor 1:\")\n",
    "print(sorted(zip(map(lambda x: round(x, 4), regr_1.feature_importances_[regr_1.feature_importances_!=0]),\n",
    "                 X_train.columns[regr_1.feature_importances_!=0]),reverse=True))\n",
    "\n",
    "print(\"\\nFeatures sorted by their score for regressor 2:\")\n",
    "print(sorted(zip(map(lambda x: round(x, 4), regr_2.feature_importances_[regr_2.feature_importances_!=0]),\n",
    "                 X_train.columns[regr_2.feature_importances_!=0]),reverse=True))\n",
    "\n"
   ]
  },
  {
   "cell_type": "code",
   "execution_count": 16,
   "metadata": {},
   "outputs": [
    {
     "data": {
      "text/plain": [
       "217.0"
      ]
     },
     "execution_count": 16,
     "metadata": {},
     "output_type": "execute_result"
    }
   ],
   "source": [
    "# note that the Genre with ID #1562 pops out in both regressors. \n",
    "# Here I explore if this Genre is quantitatively special\n",
    "poddf[1562].sum()"
   ]
  },
  {
   "cell_type": "code",
   "execution_count": 17,
   "metadata": {
    "scrolled": true
   },
   "outputs": [
    {
     "data": {
      "text/plain": [
       "Text(0.5, 0.98, 'Distribution of Avg. Rating for GenreID 1562')"
      ]
     },
     "execution_count": 17,
     "metadata": {},
     "output_type": "execute_result"
    },
    {
     "data": {
      "image/png": "[encoded data removed]",
      "text/plain": [
       "<Figure size 432x288 with 1 Axes>"
      ]
     },
     "metadata": {
      "needs_background": "light"
     },
     "output_type": "display_data"
    }
   ],
   "source": [
    "GenreIDs_df.sum().hist(bins=20)\n",
    "plt.suptitle(\"Distribution of Avg. Rating for GenreID 1562\")\n",
    "# The Genre #1562 has 217 podcasts. As shown in the histogram below, this number is fairly common. "
   ]
  },
  {
   "cell_type": "code",
   "execution_count": 18,
   "metadata": {},
   "outputs": [
    {
     "data": {
      "image/png": "[encoded data removed]",
      "text/plain": [
       "<Figure size 432x288 with 1 Axes>"
      ]
     },
     "metadata": {
      "needs_background": "light"
     },
     "output_type": "display_data"
    },
    {
     "data": {
      "image/png": "[encoded data removed]",
      "text/plain": [
       "<Figure size 432x288 with 1 Axes>"
      ]
     },
     "metadata": {
      "needs_background": "light"
     },
     "output_type": "display_data"
    }
   ],
   "source": [
    "# Comparing the two graphs below, the distribution of ratings for Genre # 1562 is also not drastically different from the whole dataset. \n",
    "# One interpretation is that the Genre #1562 may not be quantitatively special but qualitatively special.\n",
    "# #1562 refers to the genre \"After Shows\". It may be interesting to explore why this genre is a more important feature. \n",
    "poddf['Avg Rating'][poddf[1562]==1].hist(bins=[1,2,3,4,5])\n",
    "plt.suptitle(\"Distribution of Avg. Rating for GenreID #1562\")\n",
    "plt.show()\n",
    "poddf['Avg Rating'].hist(bins=[1,2,3,4,5])\n",
    "plt.suptitle(\"Distribution of Avg. Rating for All Genres\")\n",
    "plt.show()"
   ]
  },
  {
   "cell_type": "code",
   "execution_count": 22,
   "metadata": {},
   "outputs": [],
   "source": [
    "# both regressors generated small errors. However, the model could achieve this by chance, \n",
    "# esp. that the data is skewed towards higher ratings.\n",
    "# Here, I shuffle the y_train data and repeat the model fitting, prediction and error calculation.\n",
    "# I repeat this process 1000 times to get the averaged error\n",
    "\n",
    "errors = 0; n=0\n",
    "while n !=1000:\n",
    "    y_train_shuffled = y_train.sample(frac=1).reset_index(drop=True)\n",
    "    regr_verify = RandomForestRegressor(max_depth=4)\n",
    "    regr_verify.fit(X_train,y_train_shuffled)\n",
    "    y_verfiy = regr_verify.predict(X_test)\n",
    "    # calculate error\n",
    "    errors +=np.sqrt(mean_squared_error(y_verfiy, y_test))\n",
    "    n +=1\n",
    "error = errors/1000                  \n"
   ]
  },
  {
   "cell_type": "code",
   "execution_count": 23,
   "metadata": {},
   "outputs": [
    {
     "name": "stdout",
     "output_type": "stream",
     "text": [
      "The new error is  0.3404992540940464\n"
     ]
    }
   ],
   "source": [
    "print('The new error is ',error)\n",
    "# note that this error is very comparable to the error generated before. \n",
    "# Thus, the model isn't really capturing unique data relationships  "
   ]
  },
  {
   "cell_type": "markdown",
   "metadata": {},
   "source": [
    "# Summary:\n",
    "The \"random forest regressor\" method appeared to work well as errors are small. However, shuffling training targets generated similar performance. Thus, the model isn't really capturing unique data relationships and could be performing well just by chance. \n",
    "## Feature importance: \n",
    " - 'Episode Count' could be an important feature as it pops out for both regressor 1&2.\n",
    " - The genre #1562, which corresponds to 'After Shows', could also be important, but its score is much less for regressor 2. As this genre doesn't seem to be quantitatively different from the whole dataset, it could be interesting to explore its qualitative importance. \n",
    " - It's hard to say much about other features that are only present in regressor 2. "
   ]
  },
  {
   "cell_type": "code",
   "execution_count": null,
   "metadata": {},
   "outputs": [],
   "source": []
  }
 ],
 "metadata": {
  "kernelspec": {
   "display_name": "Python 3",
   "language": "python",
   "name": "python3"
  },
  "language_info": {
   "codemirror_mode": {
    "name": "ipython",
    "version": 3
   },
   "file_extension": ".py",
   "mimetype": "text/x-python",
   "name": "python",
   "nbconvert_exporter": "python",
   "pygments_lexer": "ipython3",
   "version": "3.6.4"
  }
 },
 "nbformat": 4,
 "nbformat_minor": 2
}
